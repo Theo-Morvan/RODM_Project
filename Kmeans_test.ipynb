{
 "cells": [
  {
   "cell_type": "code",
   "execution_count": 1,
   "metadata": {},
   "outputs": [],
   "source": [
    "include(\"src\\\\building_tree.jl\")\n",
    "include(\"src\\\\utilities.jl\")\n",
    "include(\"src\\\\merge.jl\")\n",
    "using Debugger\n",
    "using DataFrames, Random\n",
    "using DataStructures\n",
    "using StatsBase\n",
    "using Statistics\n",
    "using LinearAlgebra\n",
    "using LazySets\n",
    "using Polyhedra"
   ]
  },
  {
   "cell_type": "code",
   "execution_count": 2,
   "metadata": {},
   "outputs": [
    {
     "name": "stdout",
     "output_type": "stream",
     "text": [
      " (train size 120, test size 30, 4, features count: 4)\n"
     ]
    },
    {
     "data": {
      "text/plain": [
       "120-element Vector{Int64}:\n",
       " 3\n",
       " 1\n",
       " 3\n",
       " 1\n",
       " 1\n",
       " 1\n",
       " 1\n",
       " 1\n",
       " 2\n",
       " 1\n",
       " ⋮\n",
       " 3\n",
       " 1\n",
       " 2\n",
       " 3\n",
       " 1\n",
       " 1\n",
       " 1\n",
       " 2\n",
       " 1"
      ]
     },
     "metadata": {},
     "output_type": "display_data"
    }
   ],
   "source": [
    "dataSetName = \"iris\"\n",
    "include(\"./data/\" * dataSetName * \".txt\")\n",
    "# Ramener chaque caractéristique sur [0, 1]\n",
    "reducedX = Matrix{Float64}(X)\n",
    "for j in 1:size(X, 2)\n",
    "    reducedX[:, j] .-= minimum(X[:, j])\n",
    "    reducedX[:, j] ./= maximum(X[:, j])\n",
    "end\n",
    "\n",
    "train, test = train_test_indexes(length(Y))\n",
    "X_train = reducedX[train,:]\n",
    "Y_train = Y[train]\n",
    "X_test = reducedX[test,:]\n",
    "Y_test = Y[test]\n",
    "classes = unique(Y)\n",
    "\n",
    "println(\" (train size \", size(X_train, 1), \", test size \", size(X_test, 1), \", \", size(X_train, 2), \", features count: \", size(X_train, 2), \")\")\n",
    "\n",
    "# Temps limite de la\n",
    "time_limit = 10\n",
    "D = 3\n",
    "x = X_train\n",
    "y = Y_train"
   ]
  },
  {
   "cell_type": "code",
   "execution_count": 3,
   "metadata": {},
   "outputs": [
    {
     "data": {
      "text/plain": [
       "(0.0, 1.0)"
      ]
     },
     "metadata": {},
     "output_type": "display_data"
    }
   ],
   "source": [
    "minimum(X_train), maximum(X_train)"
   ]
  },
  {
   "cell_type": "code",
   "execution_count": 4,
   "metadata": {},
   "outputs": [],
   "source": [
    "num_clusters = 4\n",
    "centroids = [rand(4) for i in 1:num_clusters]\n",
    "clusters_assignment = Vector{Int64}([])\n",
    "closest_distance = Inf\n",
    "for i in 1:size(X_train, 1)\n",
    "    x_test = X_train[i,:]\n",
    "    cluster = 0\n",
    "    for (j, centroid) in enumerate(centroids)\n",
    "        distance = euclidean(x_test, centroid)\n",
    "        if distance < closest_distance\n",
    "            cluster =j\n",
    "            closest_distance = distance\n",
    "        end\n",
    "    end\n",
    "    push!(clusters_assignment, cluster)\n",
    "end"
   ]
  },
  {
   "cell_type": "code",
   "execution_count": 5,
   "metadata": {},
   "outputs": [],
   "source": [
    "using Clustering"
   ]
  },
  {
   "cell_type": "code",
   "execution_count": 6,
   "metadata": {},
   "outputs": [
    {
     "data": {
      "text/plain": [
       "4×5 Matrix{Float64}:\n",
       " 0.443237  0.115385   0.303241   0.711111  0.207602\n",
       " 0.299819  0.419872   0.802083   0.454167  0.607456\n",
       " 0.575166  0.0756193  0.0889831  0.800565  0.0811775\n",
       " 0.539855  0.0352564  0.0729167  0.834722  0.0767544"
      ]
     },
     "metadata": {},
     "output_type": "display_data"
    }
   ],
   "source": [
    "number_clusters = 5\n",
    "R = Clustering.kmeans(transpose(X_train), number_clusters)\n",
    "a = assignments(R)\n",
    "c = counts(R)\n",
    "M = R.centers"
   ]
  },
  {
   "cell_type": "code",
   "execution_count": 7,
   "metadata": {},
   "outputs": [
    {
     "name": "stdout",
     "output_type": "stream",
     "text": [
      "1"
     ]
    },
    {
     "name": "stdout",
     "output_type": "stream",
     "text": [
      "\n",
      "4"
     ]
    },
    {
     "name": "stdout",
     "output_type": "stream",
     "text": [
      "\n"
     ]
    },
    {
     "data": {
      "text/plain": [
       "5-element Vector{Int64}:\n",
       " 5\n",
       " 4\n",
       " 2\n",
       " 3\n",
       " 1"
      ]
     },
     "metadata": {},
     "output_type": "display_data"
    }
   ],
   "source": [
    "clusters = Vector{Cluster}([])\n",
    "for cluster_interest in 1:number_clusters\n",
    "    count_classes_in_clusters = StatsBase.countmap(y[findall(x->x==cluster_interest, a)])\n",
    "    y_cluster = y[findall(x->x==2, a)]\n",
    "    df = DataFrame()\n",
    "    df.\"classes\" = collect(keys(count_classes_in_clusters))\n",
    "    df.\"count_classes\" = collect(values(count_classes_in_clusters))\n",
    "    df = sort(df, [:count_classes], rev=true)\n",
    "    number_classes = size(df, 1)\n",
    "    if number_classes > 1\n",
    "        println(cluster_interest)\n",
    "    end\n",
    "    points_cluster = findall(x->x==cluster_interest, a)\n",
    "    cluster_group = Cluster(points_cluster[1], X_train, Y_train)\n",
    "    for point_cluster in points_cluster[2:end]\n",
    "        new_cluster = Cluster(point_cluster, X_train, Y_train)\n",
    "        merge!(cluster_group, new_cluster)\n",
    "    end\n",
    "    push!(clusters, cluster_group)\n",
    "end\n",
    "clusterId = a\n",
    "df_clusters = DataFrame()\n",
    "df_clusters.\"cluster_id\" = collect(keys(StatsBase.countmap(clusterId)))\n",
    "df_clusters.\"number_elements\" = collect(values(StatsBase.countmap(clusterId)))\n",
    "higher_than_threshold(value::Int64) = value >= 10\n",
    "clusters_to_treat = filter(:\"number_elements\"=> higher_than_threshold, df_clusters).\"cluster_id\""
   ]
  },
  {
   "cell_type": "code",
   "execution_count": 23,
   "metadata": {},
   "outputs": [
    {
     "data": {
      "text/html": [
       "<div><div style = \"float: left;\"><span>0×2 DataFrame</span></div><div style = \"clear: both;\"></div></div><div class = \"data-frame\" style = \"overflow-x: scroll;\"><table class = \"data-frame\" style = \"margin-bottom: 6px;\"><thead><tr class = \"header\"><th class = \"rowNumber\" style = \"font-weight: bold; text-align: right;\">Row</th><th style = \"text-align: left;\">cluster_id</th><th style = \"text-align: left;\">number_elements</th></tr><tr class = \"subheader headerLastRow\"><th class = \"rowNumber\" style = \"font-weight: bold; text-align: right;\"></th><th title = \"Int64\" style = \"text-align: left;\">Int64</th><th title = \"Int64\" style = \"text-align: left;\">Int64</th></tr></thead><tbody></tbody></table></div>"
      ],
      "text/latex": [
       "\\begin{tabular}{r|cc}\n",
       "\t& cluster\\_id & number\\_elements\\\\\n",
       "\t\\hline\n",
       "\t& Int64 & Int64\\\\\n",
       "\t\\hline\n",
       "\\end{tabular}\n"
      ],
      "text/plain": [
       "\u001b[1m0×2 DataFrame\u001b[0m\n",
       "\u001b[1m Row \u001b[0m│\u001b[1m cluster_id \u001b[0m\u001b[1m number_elements \u001b[0m\n",
       "     │\u001b[90m Int64      \u001b[0m\u001b[90m Int64           \u001b[0m\n",
       "─────┴─────────────────────────────"
      ]
     },
     "metadata": {},
     "output_type": "display_data"
    }
   ],
   "source": [
    "df_clusters_bis = DataFrame(cluster_id=Int64[], number_elements=Int64[])"
   ]
  },
  {
   "cell_type": "code",
   "execution_count": 24,
   "metadata": {},
   "outputs": [
    {
     "data": {
      "text/html": [
       "<div><div style = \"float: left;\"><span>1×2 DataFrame</span></div><div style = \"clear: both;\"></div></div><div class = \"data-frame\" style = \"overflow-x: scroll;\"><table class = \"data-frame\" style = \"margin-bottom: 6px;\"><thead><tr class = \"header\"><th class = \"rowNumber\" style = \"font-weight: bold; text-align: right;\">Row</th><th style = \"text-align: left;\">cluster_id</th><th style = \"text-align: left;\">number_elements</th></tr><tr class = \"subheader headerLastRow\"><th class = \"rowNumber\" style = \"font-weight: bold; text-align: right;\"></th><th title = \"Int64\" style = \"text-align: left;\">Int64</th><th title = \"Int64\" style = \"text-align: left;\">Int64</th></tr></thead><tbody><tr><td class = \"rowNumber\" style = \"font-weight: bold; text-align: right;\">1</td><td style = \"text-align: right;\">2</td><td style = \"text-align: right;\">3</td></tr></tbody></table></div>"
      ],
      "text/latex": [
       "\\begin{tabular}{r|cc}\n",
       "\t& cluster\\_id & number\\_elements\\\\\n",
       "\t\\hline\n",
       "\t& Int64 & Int64\\\\\n",
       "\t\\hline\n",
       "\t1 & 2 & 3 \\\\\n",
       "\\end{tabular}\n"
      ],
      "text/plain": [
       "\u001b[1m1×2 DataFrame\u001b[0m\n",
       "\u001b[1m Row \u001b[0m│\u001b[1m cluster_id \u001b[0m\u001b[1m number_elements \u001b[0m\n",
       "     │\u001b[90m Int64      \u001b[0m\u001b[90m Int64           \u001b[0m\n",
       "─────┼─────────────────────────────\n",
       "   1 │          2                3"
      ]
     },
     "metadata": {},
     "output_type": "display_data"
    }
   ],
   "source": [
    "push!(df_clusters_bis, [2,3])"
   ]
  },
  {
   "cell_type": "code",
   "execution_count": 25,
   "metadata": {},
   "outputs": [
    {
     "data": {
      "text/html": [
       "<div><div style = \"float: left;\"><span>1×2 DataFrame</span></div><div style = \"clear: both;\"></div></div><div class = \"data-frame\" style = \"overflow-x: scroll;\"><table class = \"data-frame\" style = \"margin-bottom: 6px;\"><thead><tr class = \"header\"><th class = \"rowNumber\" style = \"font-weight: bold; text-align: right;\">Row</th><th style = \"text-align: left;\">cluster_id</th><th style = \"text-align: left;\">number_elements</th></tr><tr class = \"subheader headerLastRow\"><th class = \"rowNumber\" style = \"font-weight: bold; text-align: right;\"></th><th title = \"Int64\" style = \"text-align: left;\">Int64</th><th title = \"Int64\" style = \"text-align: left;\">Int64</th></tr></thead><tbody><tr><td class = \"rowNumber\" style = \"font-weight: bold; text-align: right;\">1</td><td style = \"text-align: right;\">2</td><td style = \"text-align: right;\">3</td></tr></tbody></table></div>"
      ],
      "text/latex": [
       "\\begin{tabular}{r|cc}\n",
       "\t& cluster\\_id & number\\_elements\\\\\n",
       "\t\\hline\n",
       "\t& Int64 & Int64\\\\\n",
       "\t\\hline\n",
       "\t1 & 2 & 3 \\\\\n",
       "\\end{tabular}\n"
      ],
      "text/plain": [
       "\u001b[1m1×2 DataFrame\u001b[0m\n",
       "\u001b[1m Row \u001b[0m│\u001b[1m cluster_id \u001b[0m\u001b[1m number_elements \u001b[0m\n",
       "     │\u001b[90m Int64      \u001b[0m\u001b[90m Int64           \u001b[0m\n",
       "─────┼─────────────────────────────\n",
       "   1 │          2                3"
      ]
     },
     "metadata": {},
     "output_type": "display_data"
    }
   ],
   "source": [
    "df_clusters_bis"
   ]
  },
  {
   "cell_type": "code",
   "execution_count": 18,
   "metadata": {},
   "outputs": [
    {
     "data": {
      "text/html": [
       "<div><div style = \"float: left;\"><span>10×2 DataFrame</span></div><div style = \"clear: both;\"></div></div><div class = \"data-frame\" style = \"overflow-x: scroll;\"><table class = \"data-frame\" style = \"margin-bottom: 6px;\"><thead><tr class = \"header\"><th class = \"rowNumber\" style = \"font-weight: bold; text-align: right;\">Row</th><th style = \"text-align: left;\">cluster_id</th><th style = \"text-align: left;\">number_elements</th></tr><tr class = \"subheader headerLastRow\"><th class = \"rowNumber\" style = \"font-weight: bold; text-align: right;\"></th><th title = \"Int64\" style = \"text-align: left;\">Int64</th><th title = \"Int64\" style = \"text-align: left;\">Int64</th></tr></thead><tbody><tr><td class = \"rowNumber\" style = \"font-weight: bold; text-align: right;\">1</td><td style = \"text-align: right;\">5</td><td style = \"text-align: right;\">19</td></tr><tr><td class = \"rowNumber\" style = \"font-weight: bold; text-align: right;\">2</td><td style = \"text-align: right;\">4</td><td style = \"text-align: right;\">30</td></tr><tr><td class = \"rowNumber\" style = \"font-weight: bold; text-align: right;\">3</td><td style = \"text-align: right;\">2</td><td style = \"text-align: right;\">13</td></tr><tr><td class = \"rowNumber\" style = \"font-weight: bold; text-align: right;\">4</td><td style = \"text-align: right;\">3</td><td style = \"text-align: right;\">12</td></tr><tr><td class = \"rowNumber\" style = \"font-weight: bold; text-align: right;\">5</td><td style = \"text-align: right;\">1</td><td style = \"text-align: right;\">46</td></tr><tr><td class = \"rowNumber\" style = \"font-weight: bold; text-align: right;\">6</td><td style = \"text-align: right;\">6</td><td style = \"text-align: right;\">2</td></tr><tr><td class = \"rowNumber\" style = \"font-weight: bold; text-align: right;\">7</td><td style = \"text-align: right;\">7</td><td style = \"text-align: right;\">4</td></tr><tr><td class = \"rowNumber\" style = \"font-weight: bold; text-align: right;\">8</td><td style = \"text-align: right;\">8</td><td style = \"text-align: right;\">6</td></tr><tr><td class = \"rowNumber\" style = \"font-weight: bold; text-align: right;\">9</td><td style = \"text-align: right;\">9</td><td style = \"text-align: right;\">8</td></tr><tr><td class = \"rowNumber\" style = \"font-weight: bold; text-align: right;\">10</td><td style = \"text-align: right;\">10</td><td style = \"text-align: right;\">10</td></tr></tbody></table></div>"
      ],
      "text/latex": [
       "\\begin{tabular}{r|cc}\n",
       "\t& cluster\\_id & number\\_elements\\\\\n",
       "\t\\hline\n",
       "\t& Int64 & Int64\\\\\n",
       "\t\\hline\n",
       "\t1 & 5 & 19 \\\\\n",
       "\t2 & 4 & 30 \\\\\n",
       "\t3 & 2 & 13 \\\\\n",
       "\t4 & 3 & 12 \\\\\n",
       "\t5 & 1 & 46 \\\\\n",
       "\t6 & 6 & 2 \\\\\n",
       "\t7 & 7 & 4 \\\\\n",
       "\t8 & 8 & 6 \\\\\n",
       "\t9 & 9 & 8 \\\\\n",
       "\t10 & 10 & 10 \\\\\n",
       "\\end{tabular}\n"
      ],
      "text/plain": [
       "\u001b[1m10×2 DataFrame\u001b[0m\n",
       "\u001b[1m Row \u001b[0m│\u001b[1m cluster_id \u001b[0m\u001b[1m number_elements \u001b[0m\n",
       "     │\u001b[90m Int64      \u001b[0m\u001b[90m Int64           \u001b[0m\n",
       "─────┼─────────────────────────────\n",
       "   1 │          5               19\n",
       "   2 │          4               30\n",
       "   3 │          2               13\n",
       "   4 │          3               12\n",
       "   5 │          1               46\n",
       "   6 │          6                2\n",
       "   7 │          7                4\n",
       "   8 │          8                6\n",
       "   9 │          9                8\n",
       "  10 │         10               10"
      ]
     },
     "metadata": {},
     "output_type": "display_data"
    }
   ],
   "source": [
    "vcat(df_clusters, df_clusters_bis)"
   ]
  },
  {
   "cell_type": "code",
   "execution_count": 64,
   "metadata": {},
   "outputs": [
    {
     "name": "stdout",
     "output_type": "stream",
     "text": [
      "only one class in cluster\n",
      ", we are not touching cluster 5\n"
     ]
    },
    {
     "name": "stdout",
     "output_type": "stream",
     "text": [
      "glp_simplex: unable to recover undefined or non-optimal solution\n",
      "glp_simplex: unable to recover undefined or non-optimal solution\n",
      "glp_simplex: unable to recover undefined or non-optimal solution\n",
      "glp_simplex: unable to recover undefined or non-optimal solution\n",
      "glp_simplex: unable to recover undefined or non-optimal solution\n",
      "glp_simplex: unable to recover undefined or non-optimal solution\n",
      "glp_simplex: unable to recover undefined or non-optimal solution\n",
      "glp_simplex: unable to recover undefined or non-optimal solution\n",
      "glp_simplex: unable to recover undefined or non-optimal solution\n",
      "glp_simplex: unable to recover undefined or non-optimal solution\n",
      "glp_simplex: unable to recover undefined or non-optimal solution\n",
      "glp_simplex: unable to recover undefined or non-optimal solution\n",
      "glp_simplex: unable to recover undefined or non-optimal solution\n",
      "glp_simplex: unable to recover undefined or non-optimal solution\n",
      "5"
     ]
    },
    {
     "name": "stdout",
     "output_type": "stream",
     "text": [
      "several classes in clusterglp_simplex: unable to recover undefined or non-optimal solution\n",
      "glp_simplex: unable to recover undefined or non-optimal solution\n",
      "glp_simplex: unable to recover undefined or non-optimal solution\n",
      "glp_simplex: unable to recover undefined or non-optimal solution\n",
      "glp_simplex: unable to recover undefined or non-optimal solution\n",
      "glp_simplex: unable to recover undefined or non-optimal solution\n",
      "glp_simplex: unable to recover undefined or non-optimal solution\n",
      "glp_simplex: unable to recover undefined or non-optimal solution\n",
      "glp_simplex: unable to recover undefined or non-optimal solution\n",
      "glp_simplex: unable to recover undefined or non-optimal solution\n",
      "glp_simplex: unable to recover undefined or non-optimal solution\n",
      "glp_simplex: unable to recover undefined or non-optimal solution\n",
      "glp_simplex: unable to recover undefined or non-optimal solution\n",
      "1 false\n",
      "2 false\n",
      "3 false\n",
      "4 false\n",
      "5 false\n",
      "6 false\n",
      "7 false\n",
      "8 false\n",
      "9 false\n",
      "10 false\n",
      "11 false\n",
      "12 false\n",
      "17only one class in cluster\n",
      ", we are not touching cluster 2\n",
      "glp_simplex: unable to recover undefined or non-optimal solution\n",
      "glp_simplex: unable to recover undefined or non-optimal solution\n",
      "glp_simplex: unable to recover undefined or non-optimal solution\n",
      "glp_simplex: unable to recover undefined or non-optimal solution\n",
      "glp_simplex: unable to recover undefined or non-optimal solution\n",
      "glp_simplex: unable to recover undefined or non-optimal solution\n",
      "glp_simplex: unable to recover undefined or non-optimal solution\n",
      "glp_simplex: unable to recover undefined or non-optimal solution\n",
      "glp_simplex: unable to recover undefined or non-optimal solution\n",
      "glp_simplex: unable to recover undefined or non-optimal solution\n",
      "glp_simplex: unable to recover undefined or non-optimal solution\n",
      "glp_simplex: unable to recover undefined or non-optimal solution\n",
      "glp_simplex: unable to recover undefined or non-optimal solution\n",
      "glp_simplex: unable to recover undefined or non-optimal solution\n",
      "glp_simplex: unable to recover undefined or non-optimal solution\n",
      "glp_simplex: unable to recover undefined or non-optimal solution\n",
      "glp_simplex: unable to recover undefined or non-optimal solution\n",
      "glp_simplex: unable to recover undefined or non-optimal solution\n",
      "17several classes in clusterglp_simplex: unable to recover undefined or non-optimal solution\n",
      "glp_simplex: unable to recover undefined or non-optimal solution\n",
      "glp_simplex: unable to recover undefined or non-optimal solution\n",
      "glp_simplex: unable to recover undefined or non-optimal solution\n",
      "glp_simplex: unable to recover undefined or non-optimal solution\n",
      "glp_simplex: unable to recover undefined or non-optimal solution\n",
      "glp_simplex: unable to recover undefined or non-optimal solution\n",
      "glp_simplex: unable to recover undefined or non-optimal solution\n",
      "glp_simplex: unable to recover undefined or non-optimal solution\n",
      "glp_simplex: unable to recover undefined or non-optimal solution\n",
      "glp_simplex: unable to recover undefined or non-optimal solution\n",
      "glp_simplex: unable to recover undefined or non-optimal solution\n",
      "glp_simplex: unable to recover undefined or non-optimal solution\n",
      "glp_simplex: unable to recover undefined or non-optimal solution\n",
      "1 false\n",
      "2 false\n",
      "19only one class in cluster\n",
      ", we are not touching cluster 1\n",
      "glp_simplex: unable to recover undefined or non-optimal solution\n",
      "glp_simplex: unable to recover undefined or non-optimal solution\n",
      "glp_simplex: unable to recover undefined or non-optimal solution\n",
      "glp_simplex: unable to recover undefined or non-optimal solution\n",
      "glp_simplex: unable to recover undefined or non-optimal solution\n",
      "glp_simplex: unable to recover undefined or non-optimal solution\n",
      "glp_simplex: unable to recover undefined or non-optimal solution\n",
      "glp_simplex: unable to recover undefined or non-optimal solution\n",
      "glp_simplex: unable to recover undefined or non-optimal solution\n",
      "glp_simplex: unable to recover undefined or non-optimal solution\n",
      "19"
     ]
    }
   ],
   "source": [
    "for cluster_interest in clusters_to_treat \n",
    "    count_classes_in_clusters = StatsBase.countmap(y[findall(x->x==cluster_interest, clusterId)])\n",
    "    y_cluster = y[findall(x->x==cluster_interest, clusterId)]\n",
    "    df = DataFrame()\n",
    "    df.\"classes\" = collect(keys(count_classes_in_clusters))\n",
    "    df.\"count_classes\" = collect(values(count_classes_in_clusters))\n",
    "    df = sort(df, [:count_classes], rev=true)\n",
    "    main_class = 0\n",
    "    if size(df)[1]>1\n",
    "        main_class = df[1,1]\n",
    "        print(\"several classes in cluster\")\n",
    "    else\n",
    "        println(\"only one class in cluster\")\n",
    "        println(\", we are not touching cluster \", cluster_interest)\n",
    "        main_class = df[1,1]\n",
    "    end   \n",
    "    points_in_cluster = findall(x->x==cluster_interest, clusterId)\n",
    "    points_reckon_with = Vector{Int64}([])\n",
    "    points_sideline = Vector{Int64}([])\n",
    "    for (i, point) in enumerate(points_in_cluster)\n",
    "        if y[point] != main_class\n",
    "            push!(points_sideline,i )\n",
    "        else\n",
    "            push!(points_reckon_with, i)\n",
    "        end\n",
    "    end\n",
    "    matrix_interest = clusters[cluster_interest].x\n",
    "    size(matrix_interest, 1)\n",
    "    vectors_cluster = [matrix_interest[i,:] for i in 1:size(matrix_interest,1)]\n",
    "    vectors_cluster[points_reckon_with]\n",
    "    hull = LazySets.convex_hull(vectors_cluster[points_reckon_with])\n",
    "    for i in 1:length(points_sideline)\n",
    "        println(i, \" \",element(Singleton(vectors_cluster[points_sideline[i]])) ∈ VPolytope(hull))\n",
    "        if element(Singleton(vectors_cluster[points_sideline[i]])) ∈ VPolytope(hull)\n",
    "            push!(points_reckon_with,  points_sideline[i])\n",
    "        end\n",
    "    end\n",
    "    sort!(points_reckon_with)\n",
    "    points_to_be_taken_out_cluster = points_sideline[points_sideline .∉ Ref(points_reckon_with)]\n",
    "\n",
    "    new_clusters = Vector{Cluster}([])\n",
    "    point_cluster  = points_reckon_with[1]\n",
    "    trimmed_cluster = Cluster(point_cluster, matrix_interest, y_cluster)\n",
    "    for point_cluster in points_reckon_with[2:end]\n",
    "        new_cluster = Cluster(point_cluster, matrix_interest, y_cluster)\n",
    "        merge!(trimmed_cluster, new_cluster)\n",
    "    end\n",
    "\n",
    "    for point_cluster in points_to_be_taken_out_cluster\n",
    "        new_cluster = Cluster(point_cluster, matrix_interest, y_cluster)\n",
    "        push!(clusters, new_cluster)\n",
    "    end\n",
    "    clusters[cluster_interest] = trimmed_cluster\n",
    "    print(length(clusters))\n",
    "end"
   ]
  },
  {
   "cell_type": "code",
   "execution_count": 51,
   "metadata": {},
   "outputs": [],
   "source": [
    "\n",
    "for element in findall(x->x==cluster_interest, a)\n",
    "    push!(clusters, Cluster(element,X_train, Y_train, ))\n",
    "end\n",
    "main_cluster = clusters_current_group[1]\n",
    "for element in clusters_current_group[2:end]\n",
    "    push!()"
   ]
  },
  {
   "cell_type": "code",
   "execution_count": 1,
   "metadata": {},
   "outputs": [
    {
     "ename": "UndefVarError",
     "evalue": "UndefVarError: X_train not defined",
     "output_type": "error",
     "traceback": [
      "UndefVarError: X_train not defined\n",
      "\n",
      "Stacktrace:\n",
      " [1] top-level scope\n",
      "   @ c:\\Users\\32mor\\OneDrive\\Documents\\IPP M2\\OR\\Projet_RODM_2023\\RODM_Project\\Kmeans_test.ipynb:5"
     ]
    }
   ],
   "source": [
    "num_clusters = 10\n",
    "centroids = [rand(4) for i in 1:num_clusters]\n",
    "for i in 1:1\n",
    "    clusters_assignment = Vector{Int64}([])\n",
    "    for i in 1:size(X_train, 1)\n",
    "        closest_distance = 100\n",
    "        x_test = X_train[i,:]\n",
    "        cluster = 0\n",
    "        for (j, centroid) in enumerate(centroids)\n",
    "            distance = euclidean(x_test, centroid)\n",
    "            if distance < closest_distance\n",
    "                cluster =j\n",
    "                closest_distance = distance\n",
    "            end\n",
    "        end\n",
    "        push!(clusters_assignment, cluster)\n",
    "    end\n",
    "    new_centroids = Vector{Vector{Float64}}([])\n",
    "    for i in 1:num_clusters\n",
    "        df = DataFrame()\n",
    "        df.\"id\" = collect(1:size(X_train,1))\n",
    "        df.\"cluster_assignment\" = clusters_assignment\n",
    "        cluster_value(value::Int64) = value == i\n",
    "        new_centroid = vec(mean(X_train[filter(:\"cluster_assignment\"=>cluster_value, df).\"id\",:],dims=1))\n",
    "        # print(new_centroid)\n",
    "        push!(new_centroids, new_centroid)\n",
    "    end\n",
    "    centroids = new_centroids\n",
    "end"
   ]
  },
  {
   "cell_type": "code",
   "execution_count": null,
   "metadata": {},
   "outputs": [],
   "source": []
  }
 ],
 "metadata": {
  "kernelspec": {
   "display_name": "Julia 1.8.5",
   "language": "julia",
   "name": "julia-1.8"
  },
  "language_info": {
   "file_extension": ".jl",
   "mimetype": "application/julia",
   "name": "julia",
   "version": "1.8.5"
  },
  "orig_nbformat": 4
 },
 "nbformat": 4,
 "nbformat_minor": 2
}
