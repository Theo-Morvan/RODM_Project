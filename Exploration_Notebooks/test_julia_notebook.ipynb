{
 "cells": [
  {
   "cell_type": "code",
   "execution_count": 1,
   "metadata": {},
   "outputs": [],
   "source": [
    "include(\"src\\\\building_tree.jl\")\n",
    "include(\"src\\\\utilities.jl\")\n",
    "include(\"src\\\\merge.jl\")\n",
    "using Debugger\n",
    "using DataFrames, Random\n",
    "using DataStructures\n",
    "using StatsBase\n",
    "using Statistics\n",
    "using LinearAlgebra\n",
    "using LazySets\n",
    "using Polyhedra\n",
    "using InvertedIndices\n",
    "# using Plots"
   ]
  },
  {
   "cell_type": "code",
   "execution_count": 2,
   "metadata": {},
   "outputs": [
    {
     "data": {
      "text/plain": [
       "\"iris\""
      ]
     },
     "metadata": {},
     "output_type": "display_data"
    }
   ],
   "source": [
    "dataSetName = \"iris\""
   ]
  },
  {
   "cell_type": "code",
   "execution_count": 3,
   "metadata": {},
   "outputs": [
    {
     "name": "stdout",
     "output_type": "stream",
     "text": [
      " (train size 120, test size 30, 4, features count: 4)\n"
     ]
    }
   ],
   "source": [
    "include(\"./data/\" * dataSetName * \".txt\")\n",
    "# Ramener chaque caractéristique sur [0, 1]\n",
    "reducedX = Matrix{Float64}(X)\n",
    "for j in 1:size(X, 2)\n",
    "    reducedX[:, j] .-= minimum(X[:, j])\n",
    "    reducedX[:, j] ./= maximum(X[:, j])\n",
    "end\n",
    "\n",
    "train, test = train_test_indexes(length(Y))\n",
    "X_train = reducedX[train,:]\n",
    "Y_train = Y[train]\n",
    "X_test = reducedX[test,:]\n",
    "Y_test = Y[test]\n",
    "classes = unique(Y)\n",
    "\n",
    "println(\" (train size \", size(X_train, 1), \", test size \", size(X_test, 1), \", \", size(X_train, 2), \", features count: \", size(X_train, 2), \")\")\n",
    "\n",
    "# Temps limite de la"
   ]
  },
  {
   "cell_type": "code",
   "execution_count": 4,
   "metadata": {},
   "outputs": [
    {
     "data": {
      "text/plain": [
       "120-element Vector{Int64}:\n",
       " 3\n",
       " 1\n",
       " 3\n",
       " 1\n",
       " 1\n",
       " 1\n",
       " 1\n",
       " 1\n",
       " 2\n",
       " 1\n",
       " ⋮\n",
       " 3\n",
       " 1\n",
       " 2\n",
       " 3\n",
       " 1\n",
       " 1\n",
       " 1\n",
       " 2\n",
       " 1"
      ]
     },
     "metadata": {},
     "output_type": "display_data"
    }
   ],
   "source": [
    "time_limit = 10\n",
    "D = 3\n",
    "x = X_train\n",
    "y = Y_train"
   ]
  },
  {
   "cell_type": "code",
   "execution_count": 5,
   "metadata": {},
   "outputs": [],
   "source": [
    "n = length(Y_train)\n",
    "m = length(x[1,:])\n",
    "clusters = Vector{Cluster}([])\n",
    "for dataId in 1:size(x,1)\n",
    "    push!(clusters, Cluster(dataId, x,y))\n",
    "end\n",
    "clusterId = collect(1:n) #On obtient un vecteur 1,2..., qui correspond pour chaque cluster à son clusterId\n",
    "distances = Vector{Distance}([])\n",
    "for id1 in 1:n-1\n",
    "    for id2 in id1+1:n\n",
    "        push!(distances, Distance(id1, id2, x))\n",
    "    end\n",
    "end\n",
    "sort!(distances, by = v ->v.distance)\n",
    "remainingClusters=n\n",
    "distanceId = 1\n",
    "n_epochs = 1\n",
    "c1_bis = Nothing\n",
    "c2_bis = Nothing\n",
    "i = 1\n",
    "a=i\n",
    "max_elements_small_classes = 5\n",
    "num_clusters = 10\n",
    "\n",
    "while remainingClusters>= num_clusters\n",
    "    distance = distances[distanceId]\n",
    "    cId1 =clusterId[distance.ids[1]]\n",
    "    cId2 = clusterId[distance.ids[2]]\n",
    "    if cId1 != cId2\n",
    "        c1 = clusters[cId1]\n",
    "        c2 = clusters[cId2]\n",
    "        count_classes_in_clusters = StatsBase.countmap([y[c2.dataIds]; y[c1.dataIds]])\n",
    "        df = DataFrame()\n",
    "        df.\"classes\" = collect(keys(count_classes_in_clusters))\n",
    "        df.\"count_classes\" = collect(values(count_classes_in_clusters))\n",
    "        df = sort(df, [:count_classes], rev=true)\n",
    "        # if sum(df[df.\"count_classes\".!=maximum(df.\"count_classes\"),:].\"count_classes\") <= max_elements_small_classes\n",
    "        if sum(df[df.\"classes\".!=df[1,1],\"count_classes\"])<= max_elements_small_classes\n",
    "            remainingClusters -=1\n",
    "            if remainingClusters < num_clusters\n",
    "                break\n",
    "            end\n",
    "            merge!(c1, c2) #On merge les 2 clusters\n",
    "            for id in c2.dataIds \n",
    "                clusterId[id]= cId1 #On modifie le clusterId dans la serie pour le cluster_2, on lui affecte le cluster_1\n",
    "            end\n",
    "            # Vider le second cluster\n",
    "            empty!(clusters[cId2].dataIds)\n",
    "        end\n",
    "\n",
    "    end\n",
    "    distanceId += 1\n",
    "    # if i % 50 == 0\n",
    "    # #     println(remainingClusters)\n",
    "    # #     # print(\"\\n\")\n",
    "    # # end\n",
    "end"
   ]
  },
  {
   "cell_type": "code",
   "execution_count": 6,
   "metadata": {},
   "outputs": [
    {
     "data": {
      "text/plain": [
       "3-element Vector{Int64}:\n",
       " 41\n",
       " 38\n",
       "  9"
      ]
     },
     "metadata": {},
     "output_type": "display_data"
    }
   ],
   "source": [
    "df_clusters = DataFrame()\n",
    "df_clusters.\"cluster_id\" = collect(keys(StatsBase.countmap(clusterId)))\n",
    "df_clusters.\"number_elements\" = collect(values(StatsBase.countmap(clusterId)))\n",
    "higher_than_threshold(value::Int64) = value >= 10\n",
    "clusters_to_treat = filter(:\"number_elements\"=> higher_than_threshold, df_clusters).\"cluster_id\"\n"
   ]
  },
  {
   "cell_type": "code",
   "execution_count": 7,
   "metadata": {},
   "outputs": [
    {
     "data": {
      "text/plain": [
       "1.0"
      ]
     },
     "metadata": {},
     "output_type": "display_data"
    }
   ],
   "source": [
    "mean(y[clusters[38].dataIds])"
   ]
  },
  {
   "attachments": {},
   "cell_type": "markdown",
   "metadata": {},
   "source": [
    "Reprendre scaffold dans slides cooperative optimization : regarder le papier, on a un petit problème au niveau des résultats et de la mise à jour des paramètres"
   ]
  },
  {
   "cell_type": "markdown",
   "metadata": {},
   "source": []
  },
  {
   "cell_type": "code",
   "execution_count": 38,
   "metadata": {},
   "outputs": [
    {
     "name": "stdout",
     "output_type": "stream",
     "text": [
      "several classes in clusterglp_simplex: unable to recover undefined or non-optimal solution\n",
      "glp_simplex: unable to recover undefined or non-optimal solution\n",
      "glp_simplex: unable to recover undefined or non-optimal solution\n",
      "glp_simplex: unable to recover undefined or non-optimal solution\n",
      "glp_simplex: unable to recover undefined or non-optimal solution\n",
      "glp_simplex: unable to recover undefined or non-optimal solution\n",
      "glp_simplex: unable to recover undefined or non-optimal solution\n",
      "glp_simplex: unable to recover undefined or non-optimal solution\n",
      "glp_simplex: unable to recover undefined or non-optimal solution\n",
      "glp_simplex: unable to recover undefined or non-optimal solution\n",
      "glp_simplex: unable to recover undefined or non-optimal solution\n",
      "glp_simplex: unable to recover undefined or non-optimal solution\n",
      "glp_simplex: unable to recover undefined or non-optimal solution\n",
      "glp_simplex: unable to recover undefined or non-optimal solution\n",
      "glp_simplex: unable to recover undefined or non-optimal solution\n",
      "glp_simplex: unable to recover undefined or non-optimal solution\n",
      "glp_simplex: unable to recover undefined or non-optimal solution\n",
      "glp_simplex: unable to recover undefined or non-optimal solution\n",
      "glp_simplex: unable to recover undefined or non-optimal solution\n",
      "glp_simplex: unable to recover undefined or non-optimal solution\n"
     ]
    },
    {
     "name": "stdout",
     "output_type": "stream",
     "text": [
      "1 true\n",
      "2 true\n",
      "3 false\n",
      "4 false\n",
      "5 false\n"
     ]
    },
    {
     "data": {
      "text/plain": [
       "Cluster([1, 2, 3, 4, 5, 6, 7, 8, 9, 10  …  28, 29, 31, 32, 33, 34, 35, 37, 39, 40], [0.19444444444444448, 0.0, 0.3389830508474576, 0.375], [0.7222222222222222, 0.5, 0.7796610169491525, 0.7916666666666666], [0.5555555555555555 0.20833333333333331 0.6610169491525424 0.5833333333333334; 0.4999999999999999 0.25 0.7796610169491525 0.5416666666666666; … ; 0.19444444444444448 0.12499999999999992 0.38983050847457623 0.375; 0.22222222222222213 0.20833333333333331 0.3389830508474576 0.4166666666666667], 2)"
      ]
     },
     "metadata": {},
     "output_type": "display_data"
    }
   ],
   "source": [
    "cluster_interest = clusters_to_treat[3]\n",
    "count_classes_in_clusters = StatsBase.countmap(y[findall(x->x==cluster_interest, clusterId)])\n",
    "y_cluster = y[findall(x->x==cluster_interest, clusterId)]\n",
    "df = DataFrame()\n",
    "df.\"classes\" = collect(keys(count_classes_in_clusters))\n",
    "df.\"count_classes\" = collect(values(count_classes_in_clusters))\n",
    "df = sort(df, [:count_classes], rev=true)\n",
    "main_class = 0\n",
    "if size(df)[1]>1\n",
    "    main_class = df[1,1]\n",
    "    print(\"several classes in cluster\")\n",
    "else \n",
    "    main_class = df[1,1]\n",
    "    print(\"only class in cluster\")\n",
    "end   \n",
    "points_in_cluster = findall(x->x==cluster_interest, clusterId)\n",
    "points_reckon_with = Vector{Int64}([])\n",
    "points_sideline = Vector{Int64}([])\n",
    "for (i, point) in enumerate(points_in_cluster)\n",
    "    if y[point] != main_class\n",
    "        push!(points_sideline,i )\n",
    "    else\n",
    "        push!(points_reckon_with, i)\n",
    "    end\n",
    "end\n",
    "matrix_interest = clusters[cluster_interest].x\n",
    "size(matrix_interest, 1)\n",
    "vectors_cluster = [matrix_interest[i,:] for i in 1:size(matrix_interest,1)]\n",
    "vectors_cluster[points_reckon_with]\n",
    "hull = LazySets.convex_hull(vectors_cluster[points_reckon_with])\n",
    "for i in 1:length(points_sideline)\n",
    "    println(i, \" \",element(Singleton(vectors_cluster[points_sideline[i]])) ∈ VPolytope(hull))\n",
    "    if element(Singleton(vectors_cluster[points_sideline[i]])) ∈ VPolytope(hull)\n",
    "        push!(points_reckon_with,  points_sideline[i])\n",
    "    end\n",
    "end\n",
    "sort!(points_reckon_with)\n",
    "points_to_be_taken_out_cluster = points_sideline[points_sideline .∉ Ref(points_reckon_with)]\n",
    "\n",
    "new_clusters = Vector{Cluster}([])\n",
    "point_cluster  = points_reckon_with[1]\n",
    "trimmed_cluster = Cluster(point_cluster, matrix_interest, y_cluster)\n",
    "for point_cluster in points_reckon_with[2:end]\n",
    "    new_cluster = Cluster(point_cluster, matrix_interest, y_cluster)\n",
    "    merge!(trimmed_cluster, new_cluster)\n",
    "end\n",
    "\n",
    "for point_cluster in points_to_be_taken_out_cluster\n",
    "    new_cluster = Cluster(point_cluster, matrix_interest, y_cluster)\n",
    "    push!(clusters, new_cluster)\n",
    "end\n",
    "clusters[cluster_interest] = trimmed_cluster\n",
    "\n"
   ]
  },
  {
   "cell_type": "code",
   "execution_count": 14,
   "metadata": {},
   "outputs": [
    {
     "data": {
      "text/html": [
       "<div><div style = \"float: left;\"><span>1×2 DataFrame</span></div><div style = \"clear: both;\"></div></div><div class = \"data-frame\" style = \"overflow-x: scroll;\"><table class = \"data-frame\" style = \"margin-bottom: 6px;\"><thead><tr class = \"header\"><th class = \"rowNumber\" style = \"font-weight: bold; text-align: right;\">Row</th><th style = \"text-align: left;\">classes</th><th style = \"text-align: left;\">count_classes</th></tr><tr class = \"subheader headerLastRow\"><th class = \"rowNumber\" style = \"font-weight: bold; text-align: right;\"></th><th title = \"Int64\" style = \"text-align: left;\">Int64</th><th title = \"Int64\" style = \"text-align: left;\">Int64</th></tr></thead><tbody><tr><td class = \"rowNumber\" style = \"font-weight: bold; text-align: right;\">1</td><td style = \"text-align: right;\">3</td><td style = \"text-align: right;\">22</td></tr></tbody></table></div>"
      ],
      "text/latex": [
       "\\begin{tabular}{r|cc}\n",
       "\t& classes & count\\_classes\\\\\n",
       "\t\\hline\n",
       "\t& Int64 & Int64\\\\\n",
       "\t\\hline\n",
       "\t1 & 3 & 22 \\\\\n",
       "\\end{tabular}\n"
      ],
      "text/plain": [
       "\u001b[1m1×2 DataFrame\u001b[0m\n",
       "\u001b[1m Row \u001b[0m│\u001b[1m classes \u001b[0m\u001b[1m count_classes \u001b[0m\n",
       "     │\u001b[90m Int64   \u001b[0m\u001b[90m Int64         \u001b[0m\n",
       "─────┼────────────────────────\n",
       "   1 │       3             22"
      ]
     },
     "metadata": {},
     "output_type": "display_data"
    }
   ],
   "source": [
    "distance = distances[distanceId]\n",
    "cId1 =clusterId[distance.ids[1]]\n",
    "cId2 = clusterId[distance.ids[2]]\n",
    "c1 = clusters[cId1]\n",
    "c2 = clusters[cId2]\n",
    "count_classes_in_clusters = StatsBase.countmap([y[c2.dataIds]; y[c1.dataIds]])\n",
    "df = DataFrame()\n",
    "df.\"classes\" = collect(keys(count_classes_in_clusters))\n",
    "df.\"count_classes\" = collect(values(count_classes_in_clusters))\n",
    "df = sort(df, [:count_classes], rev=true)"
   ]
  },
  {
   "cell_type": "code",
   "execution_count": 15,
   "metadata": {},
   "outputs": [
    {
     "name": "stdout",
     "output_type": "stream",
     "text": [
      "Chull{Float64}"
     ]
    },
    {
     "name": "stdout",
     "output_type": "stream",
     "text": [
      "([0.9701902381663272 0.7669756716870548; 0.1924316131638032 0.13804553291012567; 0.03440015986770406 0.6243709879936329; 0.6767039719919596 0.5178321731913068; 0.11299318504818134 0.3996668264890465; 0.16489890340914626 0.8323944665177172; 0.8069622969868445 0.6044024321042605; 0.03057039394926897 0.19819610321586212; 0.6689163952554441 0.020304794840812934; 0.2852518757825253 0.7992032247538037; 0.8630983402270727 0.009163791471611171; 0.7426243199962828 0.37792793187827944; 0.1258296509779252 0.6392434400411919; 0.3563461608705246 0.5054604292112024; 0.4106106927251686 0.10216107335473268; 0.46406965266479616 0.1589518880659636; 0.26187938116585874 0.17800126806362837; 0.36986660400669347 0.9618048068583325; 0.5461963986546966 0.6425461373701451; 0.2661180892659998 0.213786475619685; 0.33910020146636555 0.2672475052639842; 0.3263605545945688 0.012941965671099731; 0.528573979061918 0.7360595443555475; 0.4266302244339928 0.3909564688545426; 0.4710443305520664 0.3322019409658922; 0.3074169013540853 0.08258033148064536; 0.01748229139651203 0.4513329838410046; 0.8573506949146517 0.18840245592957494; 0.8930873084608394 0.5093605478918231; 0.7519018351201714 0.7786966684436338; 0.10713956571443861 0.010555603515481349; 0.34763984996029273 0.5521865271915605; 0.7221388633234682 0.9840234081868395; 0.21406334319014753 0.2613437448888263; 0.13394065980888703 0.9671541968812046; 0.22336978541395636 0.42817569583803095; 0.2934717217526197 0.8019975968522387; 0.4952774087215942 0.9706803294464034; 0.06140351807824718 0.5467656858489688; 0.7020949171267855 0.7415265608446302; 0.735938742203279 0.5206941765843455; 0.06870156478982192 0.040967439421662366; 0.1115624535458054 0.20654209517972477; 0.2203634717901607 0.47564943539832616; 0.9875465525888553 0.12845047160605672; 0.2572034904996988 0.2755325105295303; 0.31924913905386043 0.01790899594441009; 0.8229568201223729 0.6071019746166136; 0.5357378249942211 0.7862656304957261; 0.3081896081212967 0.739010299144785; 0.4496228062153499 0.9742540404991766; 0.3865129395117458 0.4992834549319449; 0.6527299241135579 0.09718729431250273; 0.4919671006259324 0.06583181587492715; 0.977669978635453 0.5502556827066731; 0.4510456796844854 0.9170037146200049; 0.12159931270715252 0.43530358019173565; 0.3217878997638107 0.8001100169145244; 0.18325260396217158 0.40999352739743977; 0.14085595528324013 0.5261185225374939; 0.5212646298354501 0.9118460035736603; 0.24315244005968184 0.3193496955213362; 0.23959893848797376 0.9308168560878354; 0.7423781850869089 0.12694029488566805; 0.22856309943191366 0.36954525902446533; 0.17410398090451307 0.912040131797885; 0.7460010836515861 0.08074776551175855; 0.5930430349264686 0.3880472055266424; 0.14417456442500887 0.9582215949160889; 0.9276188833028498 0.975094623588664; 0.9148538887552013 0.13183465431053176; 0.7957477288932909 0.8237761712575754; 0.08649025361497598 0.5977488190900327; 0.9193701956101721 0.29686144418848515; 0.04436609287575255 0.9267499976657919; 0.5358001487037658 0.6295320155006636; 0.70059386739438 0.6189513245381075; 0.7561555646894033 0.7779068861147274; 0.4660009495699988 0.967204799375383; 0.6938230451603794 0.687526568742608; 0.3414854573982289 0.4872935509433266; 0.06295842138390362 0.9690336832337415; 0.6553483416940882 0.3231166718745684; 0.33657104608917465 0.44903513202586487; 0.45900316141081454 0.6766555561538358; 0.6002402849742103 0.947343139843494; 0.5703795865257897 0.9082260637914512; 0.6918186091906979 0.26893807333974606; 0.9635290155770525 0.5342260822239921; 0.49096757827043624 0.5285726578447894; 0.11423296250262016 0.2267636997071253; 0.9142059931180473 0.3158505405360116; 0.326021259299874 0.6478767164698939; 0.14402183838238725 0.6243600552456808; 0.056940866534311185 0.7846177851006241; 0.8332270476156696 0.8974951213497017; 0.2845733557235648 0.5377895888791722; 0.7959901683308892 0.17717257578131973; 0.45392294769520636 0.37900274051830474; 0.33335414241337225 0.5621945177105809; 0.2556533128014846 0.7252206525261146; 0.2902229750395269 0.5388604626859486; 0.8379325492451225 0.5577403423786426; 0.7159615870185273 0.6481106579545531; 0.7719468001586218 0.22885473314769067; 0.08868689119680451 0.707566401558638; 0.12602627304213032 0.08314538792436876; 0.637545480548828 0.27827795054455595; 0.6317706547445511 0.9177456929330534; 0.0691592193680084 0.49804749841907847; 0.01753097942872539 0.28689163117415317; 0.1932739937205663 0.5648061638356922; 0.30385015440153296 0.3021748512316925; 0.22710392491079734 0.6134596035996003; 0.039617386317412184 0.3387841764837025; 0.3323695968839445 0.3981509700152558; 0.853205115492504 0.25988980205586; 0.12500435516018993 0.8822531220696141; 0.4180722026130542 0.23676773312544963; 0.3732124255692404 0.9887535001641116; 0.04516676252777829 0.9885795089747481; 0.7875143724344758 0.022086107504104557; 0.046946271647867466 0.20990276043665634; 0.4378462799595684 0.058486968774549175; 0.230219228538164 0.4622936257010076; 0.4875369535686531 0.7269557582355977; 0.9069315677023287 0.942119486581627; 0.22216679999914557 0.21844814393497058; 0.001038703028294119 0.5069685650150854; 0.9815001890928198 0.08166064796001371; 0.5430397503932657 0.7149023277667406; 0.46679998723217153 0.5838997524547255; 0.967942091111351 0.6904904738952768; 0.8605419556265238 0.9149843864582782; 0.8866070746095933 0.11135916206002705; 0.8557846794709969 0.4012809449568464; 0.18893685391928106 0.26552268947783086; 0.6543974138610308 0.5830989967111899; 0.748256937342653"
     ]
    },
    {
     "name": "stdout",
     "output_type": "stream",
     "text": [
      " 0.8043619817035292; 0.06436672156832768 0.381514968889046; 0.9103149566005841 0.3566771401726764; 0.10141248739594 0.29275560386916955; 0.17906332012630388 0.9398893090886787; 0.8876593621726635 0.3216787268615726; 0.9335443164730844 0.4975029537723301; 0.3781613780416063 0.09847372201739624; 0.6332541164933523 0.9482477707426582; 0.09487272844041683 0.9104966196887814; 0.03865108343161128 0.5028642978358073; 0.9518872306786422 0.7592013670590184; 0.4354987833150976 0.44929390508448985; 0.02050974802390282 0.5569125466735454; 0.9385067282348369 0.6807542812441446; 0.18118749311600924 0.5380660568067087; 0.8183391386925531 0.9888148935893187; 0.8309408609337939 0.5314645877351309; 0.8574507218400615 0.7363678713205201; 0.6265192622621533 0.4568206227063638; 0.9353287044147149 0.5241778138858297; 0.35310740145562436 0.1437536496201811; 0.4279365788621564 0.9559808744254069; 0.8512964901092949 0.4479906157948381; 0.7085135448203553 0.8550190350694076; 0.08549775163945206 0.19038674042164538; 0.5512296923175789 0.1067664640755358; 0.13205823748648093 0.4748885619042965; 0.7189398409947294 0.3885822744009294; 0.059394203148975255 0.8052873144439919; 0.5223368159490543 0.5480109887906334; 0.3512197599657677 0.37913834173459715; 0.08285938843507412 0.46794012022966525; 0.33377304667533847 0.09536091777099476; 0.2013267533270221 0.2220106360516536; 0.5883325231404397 0.6702858261718982; 0.1243732435205599 0.5537622864662382; 0.6138727759923441 0.6494421331765518; 0.0057043013201723 0.5410276638316723; 0.5009911310706034 0.7548365724193334; 0.25412440069678244 0.7185770623951374; 0.5968260430295894 0.07186403772709182; 0.16778387385498117 0.8078697927470442; 0.36192476964019116 0.39365673528190703; 0.07456277750423579 0.25998138045733754; 0.8675675581482885 0.2854902798157828; 0.11199033946023329 0.07456804160648678; 0.321742310842109 0.18651640654326862; 0.5299574127931266 0.3522262409493463; 0.7384678693221671 0.42952299444728337; 0.9132305161321239 0.3524327857629662; 0.015437570205536932 0.5447026376681076; 0.5627768444880299 0.9442748940758869; 0.4664207754769276 0.4192699778922605; 0.8682529309768436 0.0419787720287772; 0.6260722473822576 0.21229076476274622; 0.8838630886038651 0.15531626292591827; 0.19839615365726437 0.395413388178105; 0.18721716332204075 0.40882985697488805; 0.9117106890022606 0.4404769841752363; 0.8382024790800541 0.04341092626429133; 0.41467717434091667 0.4108298923297333], "
     ]
    },
    {
     "name": "stdout",
     "output_type": "stream",
     "text": [
      "[121, 129, 111, 8, 42, 31, 11, 130, 45, 55, 1, 70, 155, 120], "
     ]
    },
    {
     "name": "stdout",
     "output_type": "stream",
     "text": [
      "[[121, 129], [11, 31], [120, 155], [120, 121], [55, 45], [55, 1], [70, 155], [70, 1], [111, 129], [111, 8], [42, 31], [42, 8], [130, 45], [130, 11]], [-0.995828589717026 0.09124373897533537 -0.045223337243135854; -0.0018411184999350973 -0.9999983051398983 0.010752842261721966; -0.00013792347844605805 0.999999990488557 -0.9887020160037052; -0.0005303870298955773 0.9999998593447894 -0.988555414060862; 0.9997259812840736 0.02340859554941462 -0.990282791488555; 0.9994049446775759 0.03449284786751255 -0.9960680964629273; 0.12457380701913431 0.9922103439315474 -1.0830559875925851; 0.9797134819226163 0.20040332666665847 -1.1042129324397454; -0.9972038680226734 -0.07472914826637907 0.03892112773894751; -0.9893656300414866 -0.14544981984386254 0.05907288457673767; -0.6204740510472468 -0.7842269773331052 0.07475530940515307; -0.9718286873657113 -0.23568835867101806 0.07642170008590897; 0.9917537265475882 -0.12815828447264563 -0.9629409815884865; 0.5221849195296828 -0.8528322870387699 -0.44288176009899627], 3.6812524938603395, 0.9214021225000919)"
     ]
    },
    {
     "data": {
      "text/plain": [
       "Polyhedron QHull.Polyhedron:\n",
       "200-element iterator of Vector{Float64}:\n",
       " [0.9701902381663272, 0.7669756716870548]\n",
       " [0.1924316131638032, 0.13804553291012567]\n",
       " [0.03440015986770406, 0.6243709879936329]\n",
       " [0.6767039719919596, 0.5178321731913068]\n",
       " [0.11299318504818134, 0.3996668264890465]\n",
       " [0.16489890340914626, 0.8323944665177172]\n",
       " [0.8069622969868445, 0.6044024321042605]\n",
       " [0.03057039394926897, 0.19819610321586212]\n",
       " [0.6689163952554441, 0.020304794840812934]\n",
       " [0.2852518757825253, 0.7992032247538037]\n",
       " [0.8630983402270727, 0.009163791471611171]\n",
       " [0.7426243199962828, 0.37792793187827944]\n",
       " [0.1258296509779252, 0.6392434400411919]\n",
       " [0.3563461608705246, 0.5054604292112024]\n",
       " [0.4106106927251686, 0.10216107335473268]\n",
       " [0.46406965266479616, 0.1589518880659636]\n",
       " [0.26187938116585874, 0.17800126806362837]\n",
       " [0.36986660400669347, 0.9618048068583325]\n",
       " [0.5461963986546966, 0.6425461373701451]\n",
       " [0.2661180892659998, 0.213786475619685]\n",
       "  ⋮"
      ]
     },
     "metadata": {},
     "output_type": "display_data"
    }
   ],
   "source": [
    "using QHull\n",
    "using LazySets\n",
    "using Polyhedra\n",
    "x_test = rand(200, 2)\n",
    "ch = chull(x_test)\n",
    "ch.points         # original points\n",
    "ch.vertices       # indices to line segments forming the convex hull\n",
    "ch.simplices      # the simplexes forming the convex hull\n",
    "show(ch)\n",
    "\n",
    "# Constructs a V-representation of 10 random points in 2 dimension\n",
    "\n",
    "v = vrep(x_test)\n",
    "\n",
    "# Constructs a polyhedon from this V-representation with the QHull library\n",
    "p = polyhedron(v, QHull.Library())"
   ]
  },
  {
   "cell_type": "code",
   "execution_count": 16,
   "metadata": {},
   "outputs": [
    {
     "data": {
      "text/plain": [
       "VPolytope{Float64, Vector{Float64}}([[0.04516676252777829, 0.001038703028294119, 0.01753097942872539, 0.03057039394926897, 0.06870156478982192, 0.10713956571443861, 0.8630983402270727, 0.9815001890928198, 0.9875465525888553, 0.977669978635453, 0.9701902381663272, 0.9276188833028498, 0.8183391386925531, 0.3732124255692404], [0.9885795089747481, 0.5069685650150854, 0.28689163117415317, 0.19819610321586212, 0.040967439421662366, 0.010555603515481349, 0.009163791471611171, 0.08166064796001371, 0.12845047160605672, 0.5502556827066731, 0.7669756716870548, 0.975094623588664, 0.9888148935893187, 0.9887535001641116]])"
      ]
     },
     "metadata": {},
     "output_type": "display_data"
    }
   ],
   "source": [
    "Polytope_Test = VPolytope(x_test[ch.vertices,:])"
   ]
  },
  {
   "cell_type": "code",
   "execution_count": 21,
   "metadata": {},
   "outputs": [
    {
     "data": {
      "text/plain": [
       "14"
      ]
     },
     "metadata": {},
     "output_type": "display_data"
    }
   ],
   "source": [
    "LazySets.dim(Polytope_Test)"
   ]
  },
  {
   "cell_type": "code",
   "execution_count": 18,
   "metadata": {},
   "outputs": [
    {
     "name": "stdout",
     "output_type": "stream",
     "text": [
      "40"
     ]
    }
   ],
   "source": [
    "test_points = Vector{Any}([])#Vector{Float64}\n",
    "a=0\n",
    "matrix =  clusters[9].x\n",
    "for i in size(clusters[9].x)[1]\n",
    "    vector_mid = matrix[i,:]\n",
    "    push!(test_points, vector_mid)\n",
    "    print(i)\n",
    "    a=i\n",
    "end"
   ]
  },
  {
   "cell_type": "code",
   "execution_count": 26,
   "metadata": {},
   "outputs": [
    {
     "name": "stdout",
     "output_type": "stream",
     "text": [
      "glp_simplex: unable to recover undefined or non-optimal solution\n",
      "glp_simplex: unable to recover undefined or non-optimal solution\n",
      "glp_simplex: unable to recover undefined or non-optimal solution\n",
      "glp_simplex: unable to recover undefined or non-optimal solution\n",
      "glp_simplex: unable to recover undefined or non-optimal solution\n",
      "glp_simplex: unable to recover undefined or non-optimal solution\n",
      "glp_simplex: unable to recover undefined or non-optimal solution\n",
      "glp_simplex: unable to recover undefined or non-optimal solution\n",
      "glp_simplex: unable to recover undefined or non-optimal solution\n",
      "glp_simplex: unable to recover undefined or non-optimal solution\n",
      "glp_simplex: unable to recover undefined or non-optimal solution\n",
      "glp_simplex: unable to recover undefined or non-optimal solution\n",
      "glp_simplex: unable to recover undefined or non-optimal solution\n",
      "glp_simplex: unable to recover undefined or non-optimal solution\n",
      "glp_simplex: unable to recover undefined or non-optimal solution\n",
      "glp_simplex: unable to recover undefined or non-optimal solution\n",
      "glp_simplex: unable to recover undefined or non-optimal solution\n",
      "glp_simplex: unable to recover undefined or non-optimal solution\n",
      "glp_simplex: unable to recover undefined or non-optimal solution\n",
      "glp_simplex: unable to recover undefined or non-optimal solution\n",
      "glp_simplex: unable to recover undefined or non-optimal solution\n",
      "glp_simplex: unable to recover undefined or non-optimal solution\n"
     ]
    },
    {
     "data": {
      "text/plain": [
       "true"
      ]
     },
     "metadata": {},
     "output_type": "display_data"
    }
   ],
   "source": [
    "points = N -> [randn(4) for i in 1:N]\n",
    "v = points(40)\n",
    "hull = LazySets.convex_hull(v)\n",
    "LazySets.dim(VPolytope(hull))\n",
    "element(Singleton(v[1])) ∈ VPolytope(hull)"
   ]
  },
  {
   "cell_type": "code",
   "execution_count": 38,
   "metadata": {},
   "outputs": [
    {
     "data": {
      "text/plain": [
       "6"
      ]
     },
     "metadata": {},
     "output_type": "display_data"
    }
   ],
   "source": [
    "points_sideline[1]"
   ]
  },
  {
   "cell_type": "code",
   "execution_count": 131,
   "metadata": {},
   "outputs": [
    {
     "ename": "LoadError",
     "evalue": "LoadError: The curly syntax (sum{},prod{},norm2{}) is no longer supported. Expression: `sum{Z[i, j] * lambda[j], j = 1:size(Z, 2)}`.\nin expression starting at c:\\Users\\32mor\\OneDrive\\Documents\\IPP M2\\OR\\Projet_RODM_2023\\RODM_Project\\test_julia_notebook.ipynb:11",
     "output_type": "error",
     "traceback": [
      "LoadError: The curly syntax (sum{},prod{},norm2{}) is no longer supported. Expression: `sum{Z[i, j] * lambda[j], j = 1:size(Z, 2)}`.\n",
      "in expression starting at c:\\Users\\32mor\\OneDrive\\Documents\\IPP M2\\OR\\Projet_RODM_2023\\RODM_Project\\test_julia_notebook.ipynb:11\n",
      "\n",
      "Stacktrace:\n",
      "  [1] error(s::String)\n",
      "    @ Base .\\error.jl:35\n",
      "  [2] _rewrite(vectorized::Bool, minus::Bool, inner_factor::Expr, current_sum::Symbol, left_factors::Vector{Any}, right_factors::Vector{Any}, new_var::Symbol)\n",
      "    @ MutableArithmetics C:\\Users\\32mor\\.julia\\packages\\MutableArithmetics\\geMUn\\src\\rewrite.jl:678\n",
      "  [3] _rewrite_sum(vectorized::Bool, minus::Bool, terms::Vector{Any}, current_sum::Symbol, left_factors::Vector{Any}, right_factors::Vector{Any}, output::Symbol, block::Expr)\n",
      "    @ MutableArithmetics C:\\Users\\32mor\\.julia\\packages\\MutableArithmetics\\geMUn\\src\\rewrite.jl:359\n",
      "  [4] _rewrite(vectorized::Bool, minus::Bool, inner_factor::Expr, current_sum::Nothing, left_factors::Vector{Any}, right_factors::Vector{Any}, new_var::Symbol)\n",
      "    @ MutableArithmetics C:\\Users\\32mor\\.julia\\packages\\MutableArithmetics\\geMUn\\src\\rewrite.jl:486\n",
      "  [5] _rewrite(vectorized::Bool, minus::Bool, inner_factor::Expr, current_sum::Nothing, left_factors::Vector{Any}, right_factors::Vector{Any})\n",
      "    @ MutableArithmetics C:\\Users\\32mor\\.julia\\packages\\MutableArithmetics\\geMUn\\src\\rewrite.jl:441\n",
      "  [6] rewrite_and_return(expr::Expr; move_factors_into_sums::Bool)\n",
      "    @ MutableArithmetics C:\\Users\\32mor\\.julia\\packages\\MutableArithmetics\\geMUn\\src\\rewrite.jl:315\n",
      "  [7] rewrite_and_return(expr::Expr)\n",
      "    @ MutableArithmetics C:\\Users\\32mor\\.julia\\packages\\MutableArithmetics\\geMUn\\src\\rewrite.jl:313\n",
      "  [8] rewrite(x::Expr; kwargs::Base.Pairs{Symbol, Union{}, Tuple{}, NamedTuple{(), Tuple{}}})\n",
      "    @ MutableArithmetics C:\\Users\\32mor\\.julia\\packages\\MutableArithmetics\\geMUn\\src\\rewrite.jl:301\n",
      "  [9] rewrite\n",
      "    @ C:\\Users\\32mor\\.julia\\packages\\MutableArithmetics\\geMUn\\src\\rewrite.jl:299 [inlined]\n",
      " [10] parse_constraint_call(_error::Function, vectorized::Bool, operator::Val{:(==)}, lhs::Expr, rhs::Expr)\n",
      "    @ JuMP C:\\Users\\32mor\\.julia\\packages\\JuMP\\9CBpS\\src\\macros.jl:510\n",
      " [11] parse_constraint_head(::Function, ::Val{:call}, ::Symbol, ::Expr, ::Expr)\n",
      "    @ JuMP C:\\Users\\32mor\\.julia\\packages\\JuMP\\9CBpS\\src\\macros.jl:362\n",
      " [12] parse_constraint\n",
      "    @ C:\\Users\\32mor\\.julia\\packages\\JuMP\\9CBpS\\src\\macros.jl:303 [inlined]\n",
      " [13] _constraint_macro(args::Tuple{Symbol, Expr, Expr}, macro_name::Symbol, parsefun::typeof(parse_constraint), source::LineNumberNode)\n",
      "    @ JuMP C:\\Users\\32mor\\.julia\\packages\\JuMP\\9CBpS\\src\\macros.jl:815\n",
      " [14] var\"@constraint\"(__source__::LineNumberNode, __module__::Module, args::Vararg{Any})\n",
      "    @ JuMP C:\\Users\\32mor\\.julia\\packages\\JuMP\\9CBpS\\src\\macros.jl:927\n",
      " [15] eval\n",
      "    @ .\\boot.jl:368 [inlined]\n",
      " [16] include_string(mapexpr::typeof(REPL.softscope), mod::Module, code::String, filename::String)\n",
      "    @ Base .\\loading.jl:1428\n",
      " [17] #invokelatest#2\n",
      "    @ .\\essentials.jl:729 [inlined]\n",
      " [18] invokelatest\n",
      "    @ .\\essentials.jl:726 [inlined]\n",
      " [19] (::VSCodeServer.var\"#198#199\"{VSCodeServer.NotebookRunCellArguments, String})()\n",
      "    @ VSCodeServer c:\\Users\\32mor\\.vscode\\extensions\\julialang.language-julia-1.38.2\\scripts\\packages\\VSCodeServer\\src\\serve_notebook.jl:19\n",
      " [20] withpath(f::VSCodeServer.var\"#198#199\"{VSCodeServer.NotebookRunCellArguments, String}, path::String)\n",
      "    @ VSCodeServer c:\\Users\\32mor\\.vscode\\extensions\\julialang.language-julia-1.38.2\\scripts\\packages\\VSCodeServer\\src\\repl.jl:249\n",
      " [21] notebook_runcell_request(conn::VSCodeServer.JSONRPC.JSONRPCEndpoint{Base.PipeEndpoint, Base.PipeEndpoint}, params::VSCodeServer.NotebookRunCellArguments)\n",
      "    @ VSCodeServer c:\\Users\\32mor\\.vscode\\extensions\\julialang.language-julia-1.38.2\\scripts\\packages\\VSCodeServer\\src\\serve_notebook.jl:13\n",
      " [22] dispatch_msg(x::VSCodeServer.JSONRPC.JSONRPCEndpoint{Base.PipeEndpoint, Base.PipeEndpoint}, dispatcher::VSCodeServer.JSONRPC.MsgDispatcher, msg::Dict{String, Any})\n",
      "    @ VSCodeServer.JSONRPC c:\\Users\\32mor\\.vscode\\extensions\\julialang.language-julia-1.38.2\\scripts\\packages\\JSONRPC\\src\\typed.jl:67\n",
      " [23] serve_notebook(pipename::String, outputchannel_logger::Base.CoreLogging.SimpleLogger; crashreporting_pipename::String)\n",
      "    @ VSCodeServer c:\\Users\\32mor\\.vscode\\extensions\\julialang.language-julia-1.38.2\\scripts\\packages\\VSCodeServer\\src\\serve_notebook.jl:139\n",
      " [24] top-level scope\n",
      "    @ c:\\Users\\32mor\\.vscode\\extensions\\julialang.language-julia-1.38.2\\scripts\\notebook\\notebook.jl:32"
     ]
    }
   ],
   "source": [
    "x = [1,1,1] # test point\n",
    "Z = [1 0  # points along columns\n",
    "     0 1\n",
    "     0 0]\n",
    "using JuMP\n",
    "using CPLEX\n",
    "m = Model(CPLEX.Optimizer)\n",
    "set_silent(m)\n",
    "@variable(m, 0 <= lambda[j=1:size(Z,2)] <= 1)\n",
    "\n",
    "@constraint(m, inhull[i=1:length(x)], x[i] == sum{Z[i,j]*lambda[j], j = 1:size(Z,2)})\n",
    "@constraint(m, sum(lambda) == 1)\n",
    "status = solve(m)"
   ]
  },
  {
   "cell_type": "code",
   "execution_count": 119,
   "metadata": {},
   "outputs": [
    {
     "ename": "AssertionError",
     "evalue": "AssertionError: a vector of length 2 cannot be contained in a polytope of dimension 15",
     "output_type": "error",
     "traceback": [
      "AssertionError: a vector of length 2 cannot be contained in a polytope of dimension 15\n",
      "\n",
      "Stacktrace:\n",
      " [1] macro expansion\n",
      "   @ C:\\Users\\32mor\\.julia\\packages\\ReachabilityBase\\N7KBy\\src\\Assertions\\Assertions.jl:21 [inlined]\n",
      " [2] in(x::Vector{Float64}, P::VPolytope{Float64, Vector{Float64}}; solver::MathOptInterface.OptimizerWithAttributes)\n",
      "   @ LazySets C:\\Users\\32mor\\.julia\\packages\\LazySets\\kq31m\\src\\Sets\\VPolytope.jl:202\n",
      " [3] in(x::Vector{Float64}, P::VPolytope{Float64, Vector{Float64}})\n",
      "   @ LazySets C:\\Users\\32mor\\.julia\\packages\\LazySets\\kq31m\\src\\Sets\\VPolytope.jl:189\n",
      " [4] top-level scope\n",
      "   @ c:\\Users\\32mor\\OneDrive\\Documents\\IPP M2\\OR\\Projet_RODM_2023\\RODM_Project\\test_julia_notebook.ipynb:1"
     ]
    }
   ],
   "source": [
    "∈(x_test[1,:], Polytope_Test)"
   ]
  },
  {
   "cell_type": "code",
   "execution_count": 105,
   "metadata": {},
   "outputs": [
    {
     "ename": "MethodError",
     "evalue": "MethodError: no method matching getindex(::MixedMatVRep{Float64, Matrix{Float64}}, ::Vector{Int64})",
     "output_type": "error",
     "traceback": [
      "MethodError: no method matching getindex(::MixedMatVRep{Float64, Matrix{Float64}}, ::Vector{Int64})\n",
      "\n",
      "Stacktrace:\n",
      " [1] top-level scope\n",
      "   @ c:\\Users\\32mor\\OneDrive\\Documents\\IPP M2\\OR\\Projet_RODM_2023\\RODM_Project\\test_julia_notebook.ipynb:1"
     ]
    }
   ],
   "source": [
    "v[ch.vertices]"
   ]
  },
  {
   "cell_type": "code",
   "execution_count": 11,
   "metadata": {},
   "outputs": [
    {
     "data": {
      "text/plain": [
       "0×0 Matrix{Float64}"
      ]
     },
     "metadata": {},
     "output_type": "display_data"
    }
   ],
   "source": [
    "empty_clusters  = Array{Int64}(undef, 0)\n",
    "new_clusters = Array{Cluster}(undef, 0)\n",
    "for i in 1:length(clusters)\n",
    "    cluster = clusters[i]\n",
    "    if isempty(cluster.dataIds)\n",
    "        push!(empty_clusters, i)\n",
    "    else\n",
    "        push!(new_clusters, cluster)\n",
    "    end\n",
    "end\n",
    "distances_new = Matrix{Float64}(undef, 0,0)\n"
   ]
  }
 ],
 "metadata": {
  "kernelspec": {
   "display_name": "Julia 1.8.5",
   "language": "julia",
   "name": "julia-1.8"
  },
  "language_info": {
   "file_extension": ".jl",
   "mimetype": "application/julia",
   "name": "julia",
   "version": "1.8.5"
  },
  "orig_nbformat": 4
 },
 "nbformat": 4,
 "nbformat_minor": 2
}
