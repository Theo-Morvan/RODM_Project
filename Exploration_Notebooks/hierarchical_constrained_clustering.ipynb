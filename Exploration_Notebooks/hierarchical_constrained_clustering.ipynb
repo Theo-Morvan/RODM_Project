{
 "cells": [
  {
   "cell_type": "code",
   "execution_count": 1,
   "metadata": {},
   "outputs": [],
   "source": [
    "include(\"src\\\\building_tree.jl\")\n",
    "include(\"src\\\\utilities.jl\")\n",
    "include(\"src\\\\merge.jl\")\n",
    "include(\"src\\\\building_tree.jl\")\n",
    "# include(\"src\\\\struct\\\\new_cluster.jl\")\n",
    "using Debugger\n",
    "using DataFrames, Random\n",
    "using DataStructures\n",
    "using StatsBase\n",
    "using Statistics\n",
    "using LinearAlgebra\n",
    "# using Plots"
   ]
  },
  {
   "cell_type": "code",
   "execution_count": 8,
   "metadata": {},
   "outputs": [
    {
     "name": "stdout",
     "output_type": "stream",
     "text": [
      " (train size 120, test size 30, 4, features count: 4)\n"
     ]
    },
    {
     "data": {
      "text/plain": [
       "120-element Vector{Int64}:\n",
       " 3\n",
       " 1\n",
       " 3\n",
       " 1\n",
       " 1\n",
       " 1\n",
       " 1\n",
       " 1\n",
       " 2\n",
       " 1\n",
       " ⋮\n",
       " 3\n",
       " 1\n",
       " 2\n",
       " 3\n",
       " 1\n",
       " 1\n",
       " 1\n",
       " 2\n",
       " 1"
      ]
     },
     "metadata": {},
     "output_type": "display_data"
    }
   ],
   "source": [
    "dataSetName = \"iris\"\n",
    "include(\"./data/\" * dataSetName * \".txt\")\n",
    "# Ramener chaque caractéristique sur [0, 1]\n",
    "reducedX = Matrix{Float64}(X)\n",
    "for j in 1:size(X, 2)\n",
    "    reducedX[:, j] .-= minimum(X[:, j])\n",
    "    reducedX[:, j] ./= maximum(X[:, j])\n",
    "end\n",
    "\n",
    "train, test = train_test_indexes(length(Y))\n",
    "X_train = reducedX[train,:]\n",
    "Y_train = Y[train]\n",
    "X_test = reducedX[test,:]\n",
    "Y_test = Y[test]\n",
    "classes = unique(Y)\n",
    "\n",
    "println(\" (train size \", size(X_train, 1), \", test size \", size(X_test, 1), \", \", size(X_train, 2), \", features count: \", size(X_train, 2), \")\")\n",
    "\n",
    "# Temps limite de la\n",
    "time_limit = 10\n",
    "D = 3\n",
    "x = X_train\n",
    "y = Y_train"
   ]
  },
  {
   "cell_type": "code",
   "execution_count": 23,
   "metadata": {},
   "outputs": [],
   "source": [
    "n = length(Y_train)\n",
    "m = length(x[1,:])\n",
    "clusters = Vector{Cluster}([])\n",
    "for dataId in 1:size(x,1)\n",
    "    push!(clusters, Cluster(dataId, x,y))\n",
    "end\n",
    "clusterId = collect(1:n) #On obtient un vecteur 1,2..., qui correspond pour chaque cluster à son clusterId\n",
    "distances = Vector{Distance}([])\n",
    "for id1 in 1:n-1\n",
    "    for id2 in id1+1:n\n",
    "        push!(distances, Distance(id1, id2, x))\n",
    "    end\n",
    "end\n",
    "sort!(distances, by = v ->v.distance)\n",
    "remainingClusters=n\n",
    "distanceId = 1\n",
    "n_epochs = 1\n",
    "c1_bis = Nothing\n",
    "c2_bis = Nothing\n",
    "i = 1\n",
    "a=i\n",
    "empty_clusters = Vector{Int64}([])\n",
    "clusters_ids =Vector{Int64}([])\n",
    "for i in  1:n\n",
    "    push!(clusters_ids,i)\n",
    "end"
   ]
  },
  {
   "cell_type": "code",
   "execution_count": 24,
   "metadata": {},
   "outputs": [
    {
     "data": {
      "text/plain": [
       "Cluster([84], [0.30555555555555564, 0.7083333333333334, 0.0847457627118644, 0.04166666666666667], [0.30555555555555564, 0.7083333333333334, 0.0847457627118644, 0.04166666666666667], [0.30555555555555564 0.7083333333333334 0.0847457627118644 0.04166666666666667], [0.30555555555555564 0.7083333333333334 0.0847457627118644 0.04166666666666667], 1)"
      ]
     },
     "metadata": {},
     "output_type": "display_data"
    }
   ],
   "source": [
    "distanceId = 4\n",
    "max_elements_small_classes = 5\n",
    "num_clusters = 10\n",
    "distance = distances[distanceId]\n",
    "cId1 =clusterId[distance.ids[1]]\n",
    "cId2 = clusterId[distance.ids[2]]\n",
    "if cId1 != cId2\n",
    "    c1 = clusters[cId1]\n",
    "    c2 = clusters[cId2]\n",
    "end"
   ]
  },
  {
   "cell_type": "code",
   "execution_count": 18,
   "metadata": {},
   "outputs": [
    {
     "data": {
      "text/html": [
       "<div><div style = \"float: left;\"><span>1×2 DataFrame</span></div><div style = \"clear: both;\"></div></div><div class = \"data-frame\" style = \"overflow-x: scroll;\"><table class = \"data-frame\" style = \"margin-bottom: 6px;\"><thead><tr class = \"header\"><th class = \"rowNumber\" style = \"font-weight: bold; text-align: right;\">Row</th><th style = \"text-align: left;\">classes</th><th style = \"text-align: left;\">count_classes</th></tr><tr class = \"subheader headerLastRow\"><th class = \"rowNumber\" style = \"font-weight: bold; text-align: right;\"></th><th title = \"Int64\" style = \"text-align: left;\">Int64</th><th title = \"Int64\" style = \"text-align: left;\">Int64</th></tr></thead><tbody><tr><td class = \"rowNumber\" style = \"font-weight: bold; text-align: right;\">1</td><td style = \"text-align: right;\">1</td><td style = \"text-align: right;\">2</td></tr></tbody></table></div>"
      ],
      "text/latex": [
       "\\begin{tabular}{r|cc}\n",
       "\t& classes & count\\_classes\\\\\n",
       "\t\\hline\n",
       "\t& Int64 & Int64\\\\\n",
       "\t\\hline\n",
       "\t1 & 1 & 2 \\\\\n",
       "\\end{tabular}\n"
      ],
      "text/plain": [
       "\u001b[1m1×2 DataFrame\u001b[0m\n",
       "\u001b[1m Row \u001b[0m│\u001b[1m classes \u001b[0m\u001b[1m count_classes \u001b[0m\n",
       "     │\u001b[90m Int64   \u001b[0m\u001b[90m Int64         \u001b[0m\n",
       "─────┼────────────────────────\n",
       "   1 │       1              2"
      ]
     },
     "metadata": {},
     "output_type": "display_data"
    }
   ],
   "source": [
    "max_elements_small_classes = 5\n",
    "num_clusters = 10\n",
    "distance = distances[distanceId]\n",
    "cId1 =clusterId[distance.ids[1]]\n",
    "cId2 = clusterId[distance.ids[2]]\n",
    "if cId1 != cId2\n",
    "    c1 = clusters[cId1]\n",
    "    c2 = clusters[cId2]\n",
    "    count_classes_in_clusters = StatsBase.countmap([y[c2.dataIds]; y[c1.dataIds]])\n",
    "    df = DataFrame()\n",
    "    df.\"classes\" = collect(keys(count_classes_in_clusters))\n",
    "    df.\"count_classes\" = collect(values(count_classes_in_clusters))\n",
    "    df = sort(df, [:count_classes], rev=true)\n",
    "end"
   ]
  },
  {
   "cell_type": "code",
   "execution_count": 28,
   "metadata": {},
   "outputs": [
    {
     "data": {
      "text/plain": [
       "4-element Vector{Float64}:\n",
       " 0.30555555555555564\n",
       " 0.7083333333333334\n",
       " 0.0847457627118644\n",
       " 0.04166666666666667"
      ]
     },
     "metadata": {},
     "output_type": "display_data"
    }
   ],
   "source": [
    "merge!(c1, c2)"
   ]
  },
  {
   "cell_type": "code",
   "execution_count": 30,
   "metadata": {},
   "outputs": [
    {
     "data": {
      "text/plain": [
       "1×4 Matrix{Float64}:\n",
       " 0.291667  0.708333  0.0847458  0.0416667"
      ]
     },
     "metadata": {},
     "output_type": "display_data"
    }
   ],
   "source": [
    "mean(c1.x,dims=1)"
   ]
  },
  {
   "cell_type": "code",
   "execution_count": 33,
   "metadata": {},
   "outputs": [
    {
     "data": {
      "text/plain": [
       "1×4 Matrix{Float64}:\n",
       " 0.291667  0.708333  0.0847458  0.0416667"
      ]
     },
     "metadata": {},
     "output_type": "display_data"
    }
   ],
   "source": [
    "c1.center = mean(c1.x,dims=1)"
   ]
  },
  {
   "cell_type": "code",
   "execution_count": 34,
   "metadata": {},
   "outputs": [
    {
     "data": {
      "text/plain": [
       "1×4 Matrix{Float64}:\n",
       " 0.291667  0.708333  0.0847458  0.0416667"
      ]
     },
     "metadata": {},
     "output_type": "display_data"
    }
   ],
   "source": [
    "c1.center"
   ]
  },
  {
   "cell_type": "code",
   "execution_count": 36,
   "metadata": {},
   "outputs": [
    {
     "data": {
      "text/plain": [
       "5"
      ]
     },
     "metadata": {},
     "output_type": "display_data"
    }
   ],
   "source": [
    "max_elements_small_classes = 5\n",
    "num_clusters = 10\n",
    "distance = distances[distanceId]\n",
    "cId1 =clusterId[distance.ids[1]]\n",
    "cId2 = clusterId[distance.ids[2]]\n",
    "if cId1 != cId2\n",
    "    c1 = clusters[cId1]\n",
    "    c2 = clusters[cId2]\n",
    "    count_classes_in_clusters = StatsBase.countmap([y[c2.dataIds]; y[c1.dataIds]])\n",
    "    df = DataFrame()\n",
    "    df.\"classes\" = collect(keys(count_classes_in_clusters))\n",
    "    df.\"count_classes\" = collect(values(count_classes_in_clusters))\n",
    "    df = sort(df, [:count_classes], rev=true)\n",
    "    # if sum(df[df.\"count_classes\".!=maximum(df.\"count_classes\"),:].\"count_classes\") <= max_elements_small_classes\n",
    "    if sum(df[df.\"classes\".!=df[1,1],\"count_classes\"])<= max_elements_small_classes\n",
    "        remainingClusters -=1\n",
    "        \n",
    "        merge!(c1, c2) #On merge les 2 clusters\n",
    "        c1.center = mean(c1.x,dims=1)\n",
    "        for id in c2.dataIds \n",
    "            clusterId[id]= cId1 #On modifie le clusterId dans la serie pour le cluster_2, on lui affecte le cluster_1\n",
    "        end\n",
    "        # Vider le second cluster\n",
    "        empty!(clusters[cId2].dataIds)\n",
    "        push!(empty_clusters, cId2)\n",
    "    end\n",
    "\n",
    "    distanceId += 1\n",
    "end"
   ]
  },
  {
   "cell_type": "code",
   "execution_count": 25,
   "metadata": {},
   "outputs": [
    {
     "data": {
      "text/plain": [
       "1×4 Matrix{Float64}:\n",
       " 0.166667  0.458333  0.0847458  0.0"
      ]
     },
     "metadata": {},
     "output_type": "display_data"
    }
   ],
   "source": [
    "c2.x"
   ]
  },
  {
   "cell_type": "code",
   "execution_count": 20,
   "metadata": {},
   "outputs": [
    {
     "data": {
      "text/plain": [
       "1×4 Matrix{Float64}:\n",
       " 0.166667  0.458333  0.0847458  0.0"
      ]
     },
     "metadata": {},
     "output_type": "display_data"
    }
   ],
   "source": [
    "clusters[cId1].x"
   ]
  },
  {
   "cell_type": "code",
   "execution_count": 17,
   "metadata": {},
   "outputs": [
    {
     "data": {
      "text/plain": [
       "1×4 Matrix{Float64}:\n",
       " 0.666667  0.541667  0.79661  0.833333"
      ]
     },
     "metadata": {},
     "output_type": "display_data"
    }
   ],
   "source": [
    "# filter!(e->e≠\"s\",a)\n",
    "mean(clusters[1].x,dims=1)"
   ]
  },
  {
   "cell_type": "code",
   "execution_count": null,
   "metadata": {},
   "outputs": [],
   "source": []
  }
 ],
 "metadata": {
  "kernelspec": {
   "display_name": "Julia 1.8.5",
   "language": "julia",
   "name": "julia-1.8"
  },
  "language_info": {
   "file_extension": ".jl",
   "mimetype": "application/julia",
   "name": "julia",
   "version": "1.8.5"
  },
  "orig_nbformat": 4
 },
 "nbformat": 4,
 "nbformat_minor": 2
}
